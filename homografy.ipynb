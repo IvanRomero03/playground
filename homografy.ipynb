{
 "cells": [
  {
   "cell_type": "code",
   "execution_count": 4,
   "metadata": {},
   "outputs": [],
   "source": [
    "import cv2\n",
    "import numpy as np\n",
    "import matplotlib.pyplot as plt\n",
    "import rasterio"
   ]
  },
  {
   "cell_type": "code",
   "execution_count": 5,
   "metadata": {},
   "outputs": [],
   "source": [
    "PARK_PATH = 'park.png'\n",
    "CAM_VIEW_PATH = 'cam_view.jpg'\n",
    "MIN_MATCH_COUNT = 10"
   ]
  },
  {
   "cell_type": "code",
   "execution_count": 6,
   "metadata": {},
   "outputs": [],
   "source": [
    "def get_homography_matrix(img1, img2):\n",
    "    # Initiate SIFT detector\n",
    "    sift = cv2.SIFT_create()\n",
    "\n",
    "    # find the keypoints and descriptors with SIFT\n",
    "    kp1, des1 = sift.detectAndCompute(img1,None)\n",
    "    kp2, des2 = sift.detectAndCompute(img2,None)\n",
    "\n",
    "    # BFMatcher with default params\n",
    "    bf = cv2.BFMatcher()\n",
    "    matches = bf.knnMatch(des1,des2, k=2)\n",
    "\n",
    "    # Apply ratio test\n",
    "    good = []\n",
    "    for m,n in matches:\n",
    "        if m.distance < 0.75*n.distance:\n",
    "            good.append(m)\n",
    "\n",
    "    if len(good)>MIN_MATCH_COUNT:\n",
    "        src_pts = np.float32([ kp1[m.queryIdx].pt for m in good ]).reshape(-1,1,2)\n",
    "        dst_pts = np.float32([ kp2[m.trainIdx].pt for m in good ]).reshape(-1,1,2)\n",
    "\n",
    "        return cv2.findHomography(src_pts, dst_pts, cv2.RANSAC,5.0)\n",
    "    else:\n",
    "        print(\"Not enough matches are found - {}/{}\".format(len(good), MIN_MATCH_COUNT))\n",
    "        return None"
   ]
  },
  {
   "cell_type": "code",
   "execution_count": 7,
   "metadata": {},
   "outputs": [
    {
     "ename": "error",
     "evalue": "OpenCV(4.5.5) D:\\a\\opencv-python\\opencv-python\\opencv\\modules\\core\\src\\alloc.cpp:73: error: (-4:Insufficient memory) Failed to allocate 11841676800 bytes in function 'cv::OutOfMemoryError'\n",
     "output_type": "error",
     "traceback": [
      "\u001b[1;31m---------------------------------------------------------------------------\u001b[0m",
      "\u001b[1;31merror\u001b[0m                                     Traceback (most recent call last)",
      "Cell \u001b[1;32mIn[7], line 4\u001b[0m\n\u001b[0;32m      1\u001b[0m park \u001b[39m=\u001b[39m cv2\u001b[39m.\u001b[39mimread(PARK_PATH, \u001b[39m0\u001b[39m)\n\u001b[0;32m      2\u001b[0m cam_view \u001b[39m=\u001b[39m cv2\u001b[39m.\u001b[39mimread(CAM_VIEW_PATH, \u001b[39m0\u001b[39m)\n\u001b[1;32m----> 4\u001b[0m h, status \u001b[39m=\u001b[39m get_homography_matrix(park, cam_view)\n\u001b[0;32m      6\u001b[0m \u001b[39mprint\u001b[39m(h)\n\u001b[0;32m      7\u001b[0m \u001b[39mprint\u001b[39m(status)\n",
      "Cell \u001b[1;32mIn[6], line 6\u001b[0m, in \u001b[0;36mget_homography_matrix\u001b[1;34m(img1, img2)\u001b[0m\n\u001b[0;32m      3\u001b[0m sift \u001b[39m=\u001b[39m cv2\u001b[39m.\u001b[39mSIFT_create()\n\u001b[0;32m      5\u001b[0m \u001b[39m# find the keypoints and descriptors with SIFT\u001b[39;00m\n\u001b[1;32m----> 6\u001b[0m kp1, des1 \u001b[39m=\u001b[39m sift\u001b[39m.\u001b[39;49mdetectAndCompute(img1,\u001b[39mNone\u001b[39;49;00m)\n\u001b[0;32m      7\u001b[0m kp2, des2 \u001b[39m=\u001b[39m sift\u001b[39m.\u001b[39mdetectAndCompute(img2,\u001b[39mNone\u001b[39;00m)\n\u001b[0;32m      9\u001b[0m \u001b[39m# BFMatcher with default params\u001b[39;00m\n",
      "\u001b[1;31merror\u001b[0m: OpenCV(4.5.5) D:\\a\\opencv-python\\opencv-python\\opencv\\modules\\core\\src\\alloc.cpp:73: error: (-4:Insufficient memory) Failed to allocate 11841676800 bytes in function 'cv::OutOfMemoryError'\n"
     ]
    }
   ],
   "source": [
    "park = cv2.imread(PARK_PATH, 0)\n",
    "cam_view = cv2.imread(CAM_VIEW_PATH, 0)\n",
    "\n",
    "h, status = get_homography_matrix(park, cam_view)\n",
    "\n",
    "print(h)\n",
    "print(status)"
   ]
  }
 ],
 "metadata": {
  "kernelspec": {
   "display_name": "Python 3",
   "language": "python",
   "name": "python3"
  },
  "language_info": {
   "codemirror_mode": {
    "name": "ipython",
    "version": 3
   },
   "file_extension": ".py",
   "mimetype": "text/x-python",
   "name": "python",
   "nbconvert_exporter": "python",
   "pygments_lexer": "ipython3",
   "version": "3.9.13"
  },
  "orig_nbformat": 4
 },
 "nbformat": 4,
 "nbformat_minor": 2
}
